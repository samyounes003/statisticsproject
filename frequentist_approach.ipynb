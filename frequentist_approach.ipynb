{
 "cells": [
  {
   "cell_type": "code",
   "execution_count": 3,
   "metadata": {},
   "outputs": [],
   "source": [
    "# Import necessary libraries\n",
    "import pandas as pd\n",
    "import numpy as np\n",
    "import matplotlib.pyplot as plt\n",
    "import seaborn as sns\n",
    "from scipy import stats\n",
    "from sklearn.linear_model import LinearRegression\n",
    "from sklearn.model_selection import train_test_split\n",
    "from sklearn.metrics import mean_squared_error, r2_score"
   ]
  },
  {
   "cell_type": "code",
   "execution_count": 6,
   "metadata": {},
   "outputs": [],
   "source": [
    "USE_DANISH_DATA = False\n",
    "if USE_DANISH_DATA:\n",
    "    data = pd.read_csv('data/DanishHousingMarket.csv')\n",
    "    data = df_basic_process(data)\n",
    "else:\n",
    "    data = pd.read_csv('data/train.csv')\n",
    "\n"
   ]
  },
  {
   "cell_type": "code",
   "execution_count": 3,
   "metadata": {},
   "outputs": [
    {
     "name": "stdout",
     "output_type": "stream",
     "text": [
      "\n",
      "Statistical Summary of Numerical Features:\n",
      "                Id   MSSubClass  LotFrontage        LotArea  OverallQual  \\\n",
      "count  1460.000000  1460.000000  1201.000000    1460.000000  1460.000000   \n",
      "mean    730.500000    56.897260    70.049958   10516.828082     6.099315   \n",
      "std     421.610009    42.300571    24.284752    9981.264932     1.382997   \n",
      "min       1.000000    20.000000    21.000000    1300.000000     1.000000   \n",
      "25%     365.750000    20.000000    59.000000    7553.500000     5.000000   \n",
      "50%     730.500000    50.000000    69.000000    9478.500000     6.000000   \n",
      "75%    1095.250000    70.000000    80.000000   11601.500000     7.000000   \n",
      "max    1460.000000   190.000000   313.000000  215245.000000    10.000000   \n",
      "\n",
      "       OverallCond    YearBuilt  YearRemodAdd   MasVnrArea   BsmtFinSF1  ...  \\\n",
      "count  1460.000000  1460.000000   1460.000000  1452.000000  1460.000000  ...   \n",
      "mean      5.575342  1971.267808   1984.865753   103.685262   443.639726  ...   \n",
      "std       1.112799    30.202904     20.645407   181.066207   456.098091  ...   \n",
      "min       1.000000  1872.000000   1950.000000     0.000000     0.000000  ...   \n",
      "25%       5.000000  1954.000000   1967.000000     0.000000     0.000000  ...   \n",
      "50%       5.000000  1973.000000   1994.000000     0.000000   383.500000  ...   \n",
      "75%       6.000000  2000.000000   2004.000000   166.000000   712.250000  ...   \n",
      "max       9.000000  2010.000000   2010.000000  1600.000000  5644.000000  ...   \n",
      "\n",
      "        WoodDeckSF  OpenPorchSF  EnclosedPorch    3SsnPorch  ScreenPorch  \\\n",
      "count  1460.000000  1460.000000    1460.000000  1460.000000  1460.000000   \n",
      "mean     94.244521    46.660274      21.954110     3.409589    15.060959   \n",
      "std     125.338794    66.256028      61.119149    29.317331    55.757415   \n",
      "min       0.000000     0.000000       0.000000     0.000000     0.000000   \n",
      "25%       0.000000     0.000000       0.000000     0.000000     0.000000   \n",
      "50%       0.000000    25.000000       0.000000     0.000000     0.000000   \n",
      "75%     168.000000    68.000000       0.000000     0.000000     0.000000   \n",
      "max     857.000000   547.000000     552.000000   508.000000   480.000000   \n",
      "\n",
      "          PoolArea       MiscVal       MoSold       YrSold      SalePrice  \n",
      "count  1460.000000   1460.000000  1460.000000  1460.000000    1460.000000  \n",
      "mean      2.758904     43.489041     6.321918  2007.815753  180921.195890  \n",
      "std      40.177307    496.123024     2.703626     1.328095   79442.502883  \n",
      "min       0.000000      0.000000     1.000000  2006.000000   34900.000000  \n",
      "25%       0.000000      0.000000     5.000000  2007.000000  129975.000000  \n",
      "50%       0.000000      0.000000     6.000000  2008.000000  163000.000000  \n",
      "75%       0.000000      0.000000     8.000000  2009.000000  214000.000000  \n",
      "max     738.000000  15500.000000    12.000000  2010.000000  755000.000000  \n",
      "\n",
      "[8 rows x 38 columns]\n"
     ]
    }
   ],
   "source": [
    "# Visualize key statistics\n",
    "print(\"\\nStatistical Summary of Numerical Features:\")\n",
    "print(data.describe())\n"
   ]
  },
  {
   "cell_type": "code",
   "execution_count": 4,
   "metadata": {},
   "outputs": [
    {
     "data": {
      "image/png": "[encoded data removed]",
      "text/plain": [
       "<Figure size 576x432 with 1 Axes>"
      ]
     },
     "metadata": {
      "needs_background": "light"
     },
     "output_type": "display_data"
    }
   ],
   "source": [
    "# Target variable: Visualize housing price distribution\n",
    "target = 'SalePrice'  # Update this if your column has a different name\n",
    "plt.figure(figsize=(8, 6))\n",
    "sns.histplot(data[target], kde=True, bins=40)\n",
    "plt.title('Distribution of Housing Prices')\n",
    "plt.xlabel('Sale Price')\n",
    "plt.ylabel('Frequency')\n",
    "plt.show()"
   ]
  },
  {
   "cell_type": "code",
   "execution_count": 5,
   "metadata": {},
   "outputs": [
    {
     "name": "stdout",
     "output_type": "stream",
     "text": [
      "\n",
      "T-Test for Hypothetical Mean ($180000):\n",
      "T-Statistic = 0.443, P-Value = 0.658\n",
      "We fail to reject the null hypothesis.\n"
     ]
    }
   ],
   "source": [
    "# 2. Hypothesis Testing\n",
    "# Example: Test if mean price is significantly different from a hypothetical price\n",
    "hypothetical_mean = 180000\n",
    "t_stat, p_value = stats.ttest_1samp(data[target].fillna(data[target].mean()), hypothetical_mean)\n",
    "\n",
    "print(f\"\\nT-Test for Hypothetical Mean (${hypothetical_mean}):\")\n",
    "print(f\"T-Statistic = {t_stat:.3f}, P-Value = {p_value:.3f}\")\n",
    "\n",
    "if p_value < 0.05:\n",
    "    print(\"We reject the null hypothesis: Prices significantly differ from the hypothetical mean.\")\n",
    "else:\n",
    "    print(\"We fail to reject the null hypothesis.\")"
   ]
  },
  {
   "cell_type": "code",
   "execution_count": 4,
   "metadata": {},
   "outputs": [],
   "source": [
    "from sklearn.linear_model import LassoCV\n",
    "import numpy as np\n",
    "#import pymc as pm\n",
    "import pandas as pd\n",
    "from sklearn.model_selection import train_test_split\n",
    "from sklearn.impute import SimpleImputer\n",
    "from sklearn.preprocessing import StandardScaler, OneHotEncoder\n",
    "from sklearn.pipeline import Pipeline\n",
    "from sklearn.compose import ColumnTransformer\n",
    "#import arviz as az\n",
    "from sklearn.decomposition import PCA\n",
    "def preprocess_data(X: pd.DataFrame, use_pca: bool = False, n_components: int = 10):\n",
    "    # Identify numeric and categorical columns\n",
    "    numeric_cols = X.select_dtypes(include=['int64', 'float64']).columns\n",
    "    categorical_cols = X.select_dtypes(include=['object']).columns\n",
    "\n",
    "    # Define preprocessing pipelines\n",
    "    numeric_pipeline = Pipeline(steps=[\n",
    "        ('imputer', SimpleImputer(strategy='median')),\n",
    "        ('scaler', StandardScaler())\n",
    "    ])\n",
    "\n",
    "    categorical_pipeline = Pipeline(steps=[\n",
    "        ('imputer', SimpleImputer(strategy='most_frequent')),\n",
    "        ('onehot', OneHotEncoder(drop='first', handle_unknown='ignore'))\n",
    "    ])\n",
    "\n",
    "    # Combine pipelines using ColumnTransformer\n",
    "    preprocessor = ColumnTransformer(\n",
    "        transformers=[\n",
    "            ('num', numeric_pipeline, numeric_cols),\n",
    "            ('cat', categorical_pipeline, categorical_cols)\n",
    "        ]\n",
    "    )\n",
    "\n",
    "    # Fit and transform the data\n",
    "    X_transformed = preprocessor.fit_transform(X)\n",
    "\n",
    "    if use_pca:\n",
    "        # Apply PCA to reduce dimensions\n",
    "        pca = PCA(n_components=n_components)\n",
    "        X_pca = pca.fit_transform(X_transformed)\n",
    "\n",
    "        # Create column names for PCA components\n",
    "        pca_features = [f\"PCA_Component_{i+1}\" for i in range(n_components)]\n",
    "\n",
    "        # Convert PCA-transformed data to a DataFrame\n",
    "        X_df = pd.DataFrame(X_pca, columns=pca_features)\n",
    "    else:\n",
    "        # Extract feature names dynamically\n",
    "        # Numeric features\n",
    "        numeric_features = list(numeric_cols)\n",
    "        # Categorical features after one-hot encoding\n",
    "        categorical_features = preprocessor.named_transformers_['cat'].named_steps['onehot'].get_feature_names_out(categorical_cols)\n",
    "\n",
    "        # Combine all feature names\n",
    "        processed_features = numeric_features + list(categorical_features)\n",
    "\n",
    "        # Convert transformed data to a DataFrame\n",
    "        X_df = pd.DataFrame(X_transformed, columns=processed_features)\n",
    "        print(f\"Shape of X_transformed: {X_transformed.shape}\")\n",
    "\n",
    "\n",
    "    return X_df\n"
   ]
  },
  {
   "cell_type": "code",
   "execution_count": 7,
   "metadata": {},
   "outputs": [
    {
     "ename": "ValueError",
     "evalue": "Shape of passed values is (1460, 1), indices imply (1460, 246)",
     "output_type": "error",
     "traceback": [
      "\u001b[1;31m---------------------------------------------------------------------------\u001b[0m",
      "\u001b[1;31mValueError\u001b[0m                                Traceback (most recent call last)",
      "\u001b[1;32m~\\AppData\\Local\\Temp/ipykernel_17968/1902254491.py\u001b[0m in \u001b[0;36m<module>\u001b[1;34m\u001b[0m\n\u001b[0;32m      9\u001b[0m \u001b[1;33m\u001b[0m\u001b[0m\n\u001b[0;32m     10\u001b[0m \u001b[1;31m# preprocess the data\u001b[0m\u001b[1;33m\u001b[0m\u001b[1;33m\u001b[0m\u001b[1;33m\u001b[0m\u001b[0m\n\u001b[1;32m---> 11\u001b[1;33m \u001b[0mX_df\u001b[0m \u001b[1;33m=\u001b[0m \u001b[0mpreprocess_data\u001b[0m\u001b[1;33m(\u001b[0m\u001b[0mX\u001b[0m\u001b[1;33m=\u001b[0m\u001b[0mX\u001b[0m\u001b[1;33m,\u001b[0m \u001b[0muse_pca\u001b[0m\u001b[1;33m=\u001b[0m\u001b[1;32mFalse\u001b[0m\u001b[1;33m)\u001b[0m\u001b[1;33m\u001b[0m\u001b[1;33m\u001b[0m\u001b[0m\n\u001b[0m\u001b[0;32m     12\u001b[0m \u001b[1;33m\u001b[0m\u001b[0m\n\u001b[0;32m     13\u001b[0m \u001b[1;31m# filter out the column which are not considered important\u001b[0m\u001b[1;33m\u001b[0m\u001b[1;33m\u001b[0m\u001b[1;33m\u001b[0m\u001b[0m\n",
      "\u001b[1;32m~\\AppData\\Local\\Temp/ipykernel_17968/2180175796.py\u001b[0m in \u001b[0;36mpreprocess_data\u001b[1;34m(X, use_pca, n_components)\u001b[0m\n\u001b[0;32m     58\u001b[0m \u001b[1;33m\u001b[0m\u001b[0m\n\u001b[0;32m     59\u001b[0m         \u001b[1;31m# Convert transformed data to a DataFrame\u001b[0m\u001b[1;33m\u001b[0m\u001b[1;33m\u001b[0m\u001b[1;33m\u001b[0m\u001b[0m\n\u001b[1;32m---> 60\u001b[1;33m         \u001b[0mX_df\u001b[0m \u001b[1;33m=\u001b[0m \u001b[0mpd\u001b[0m\u001b[1;33m.\u001b[0m\u001b[0mDataFrame\u001b[0m\u001b[1;33m(\u001b[0m\u001b[0mX_transformed\u001b[0m\u001b[1;33m,\u001b[0m \u001b[0mcolumns\u001b[0m\u001b[1;33m=\u001b[0m\u001b[0mprocessed_features\u001b[0m\u001b[1;33m)\u001b[0m\u001b[1;33m\u001b[0m\u001b[1;33m\u001b[0m\u001b[0m\n\u001b[0m\u001b[0;32m     61\u001b[0m         \u001b[0mprint\u001b[0m\u001b[1;33m(\u001b[0m\u001b[1;34mf\"Shape of X_transformed: {X_transformed.shape}\"\u001b[0m\u001b[1;33m)\u001b[0m\u001b[1;33m\u001b[0m\u001b[1;33m\u001b[0m\u001b[0m\n\u001b[0;32m     62\u001b[0m \u001b[1;33m\u001b[0m\u001b[0m\n",
      "\u001b[1;32mc:\\Users\\andre\\anaconda3\\lib\\site-packages\\pandas\\core\\frame.py\u001b[0m in \u001b[0;36m__init__\u001b[1;34m(self, data, index, columns, dtype, copy)\u001b[0m\n\u001b[0;32m    709\u001b[0m                     )\n\u001b[0;32m    710\u001b[0m                 \u001b[1;32melse\u001b[0m\u001b[1;33m:\u001b[0m\u001b[1;33m\u001b[0m\u001b[1;33m\u001b[0m\u001b[0m\n\u001b[1;32m--> 711\u001b[1;33m                     mgr = ndarray_to_mgr(\n\u001b[0m\u001b[0;32m    712\u001b[0m                         \u001b[0mdata\u001b[0m\u001b[1;33m,\u001b[0m\u001b[1;33m\u001b[0m\u001b[1;33m\u001b[0m\u001b[0m\n\u001b[0;32m    713\u001b[0m                         \u001b[0mindex\u001b[0m\u001b[1;33m,\u001b[0m\u001b[1;33m\u001b[0m\u001b[1;33m\u001b[0m\u001b[0m\n",
      "\u001b[1;32mc:\\Users\\andre\\anaconda3\\lib\\site-packages\\pandas\\core\\internals\\construction.py\u001b[0m in \u001b[0;36mndarray_to_mgr\u001b[1;34m(values, index, columns, dtype, copy, typ)\u001b[0m\n\u001b[0;32m    322\u001b[0m     )\n\u001b[0;32m    323\u001b[0m \u001b[1;33m\u001b[0m\u001b[0m\n\u001b[1;32m--> 324\u001b[1;33m     \u001b[0m_check_values_indices_shape_match\u001b[0m\u001b[1;33m(\u001b[0m\u001b[0mvalues\u001b[0m\u001b[1;33m,\u001b[0m \u001b[0mindex\u001b[0m\u001b[1;33m,\u001b[0m \u001b[0mcolumns\u001b[0m\u001b[1;33m)\u001b[0m\u001b[1;33m\u001b[0m\u001b[1;33m\u001b[0m\u001b[0m\n\u001b[0m\u001b[0;32m    325\u001b[0m \u001b[1;33m\u001b[0m\u001b[0m\n\u001b[0;32m    326\u001b[0m     \u001b[1;32mif\u001b[0m \u001b[0mtyp\u001b[0m \u001b[1;33m==\u001b[0m \u001b[1;34m\"array\"\u001b[0m\u001b[1;33m:\u001b[0m\u001b[1;33m\u001b[0m\u001b[1;33m\u001b[0m\u001b[0m\n",
      "\u001b[1;32mc:\\Users\\andre\\anaconda3\\lib\\site-packages\\pandas\\core\\internals\\construction.py\u001b[0m in \u001b[0;36m_check_values_indices_shape_match\u001b[1;34m(values, index, columns)\u001b[0m\n\u001b[0;32m    391\u001b[0m         \u001b[0mpassed\u001b[0m \u001b[1;33m=\u001b[0m \u001b[0mvalues\u001b[0m\u001b[1;33m.\u001b[0m\u001b[0mshape\u001b[0m\u001b[1;33m\u001b[0m\u001b[1;33m\u001b[0m\u001b[0m\n\u001b[0;32m    392\u001b[0m         \u001b[0mimplied\u001b[0m \u001b[1;33m=\u001b[0m \u001b[1;33m(\u001b[0m\u001b[0mlen\u001b[0m\u001b[1;33m(\u001b[0m\u001b[0mindex\u001b[0m\u001b[1;33m)\u001b[0m\u001b[1;33m,\u001b[0m \u001b[0mlen\u001b[0m\u001b[1;33m(\u001b[0m\u001b[0mcolumns\u001b[0m\u001b[1;33m)\u001b[0m\u001b[1;33m)\u001b[0m\u001b[1;33m\u001b[0m\u001b[1;33m\u001b[0m\u001b[0m\n\u001b[1;32m--> 393\u001b[1;33m         \u001b[1;32mraise\u001b[0m \u001b[0mValueError\u001b[0m\u001b[1;33m(\u001b[0m\u001b[1;34mf\"Shape of passed values is {passed}, indices imply {implied}\"\u001b[0m\u001b[1;33m)\u001b[0m\u001b[1;33m\u001b[0m\u001b[1;33m\u001b[0m\u001b[0m\n\u001b[0m\u001b[0;32m    394\u001b[0m \u001b[1;33m\u001b[0m\u001b[0m\n\u001b[0;32m    395\u001b[0m \u001b[1;33m\u001b[0m\u001b[0m\n",
      "\u001b[1;31mValueError\u001b[0m: Shape of passed values is (1460, 1), indices imply (1460, 246)"
     ]
    }
   ],
   "source": [
    "if USE_DANISH_DATA: \n",
    "    data['PriceLogged'] = list(np.log(np.array(list(data.priceCash)))) # log the price so it has a normal distribution\n",
    "    X = data.drop(columns=['priceCash', 'PriceLogged'], errors='ignore')  # Drop target columns\n",
    "else: \n",
    "    data['PriceLogged'] = list(np.log(np.array(list(data.SalePrice)))) # log the price so it has a normal distribution\n",
    "    X = data.drop(columns=['SalePrice', 'PriceLogged'], errors='ignore')  # Drop target columns\n",
    "\n",
    "y = data['PriceLogged']  # Use log-transformed price as target\n",
    "\n",
    "# preprocess the data\n",
    "X_df = preprocess_data(X=X, use_pca=False)\n",
    "\n",
    "# filter out the column which are not considered important\n",
    "if not USE_DANISH_DATA: \n",
    "    important_features = find_best_features_with_lasso(X_df=X_df, y_df=y)\n",
    "    # important_features = [\"GrLivArea\", \"OverallQual\", \"YearBuilt\", \"TotalBsmtSF\"]\n",
    "    X_df = X_df[important_features]\n",
    "\n",
    "# Split into training and testing sets\n",
    "X_train, X_test, y_train, y_test = train_test_split(X_df, y, test_size=0.2, random_state=42)\n",
    "\n",
    "summary, trace, housing_model = get_bayesian_posterior_distribution(X_train=X_train, y_train=y_train, sigma=50000)\n",
    "housing_model"
   ]
  },
  {
   "cell_type": "code",
   "execution_count": null,
   "metadata": {},
   "outputs": [
    {
     "name": "stdout",
     "output_type": "stream",
     "text": [
      "\n",
      "Linear Regression Results:\n",
      "Intercept: 180921.1959\n",
      "Mean Squared Error: 0.0001\n",
      "R-squared: 1.0000\n"
     ]
    },
    {
     "data": {
      "image/png": "[encoded data removed]",
      "text/plain": [
       "<Figure size 576x432 with 1 Axes>"
      ]
     },
     "metadata": {
      "needs_background": "light"
     },
     "output_type": "display_data"
    },
    {
     "data": {
      "image/png": "[encoded data removed]",
      "text/plain": [
       "<Figure size 576x432 with 1 Axes>"
      ]
     },
     "metadata": {
      "needs_background": "light"
     },
     "output_type": "display_data"
    },
    {
     "name": "stdout",
     "output_type": "stream",
     "text": [
      "\n",
      "Shapiro-Wilk Test for Residual Normality: P-Value = 0.000\n",
      "Residuals are not normally distributed.\n",
      "\n",
      "Model Diagnostics and Results Completed!\n"
     ]
    }
   ],
   "source": [
    "# Import necessary libraries\n",
    "import pandas as pd\n",
    "import numpy as np\n",
    "import matplotlib.pyplot as plt\n",
    "import seaborn as sns\n",
    "from scipy import stats\n",
    "from sklearn.linear_model import LinearRegression\n",
    "from sklearn.model_selection import train_test_split\n",
    "from sklearn.metrics import mean_squared_error, r2_score\n",
    "\n",
    "# Train the Linear Regression Model\n",
    "# Train the Linear Regression Model\n",
    "model = LinearRegression()\n",
    "model.fit(X_train, y_train)\n",
    "\n",
    "# Predictions\n",
    "y_pred = model.predict(X_test)\n",
    "\n",
    "# 3. Model Performance and Diagnostics\n",
    "print(\"\\nLinear Regression Results:\")\n",
    "print(f\"Intercept: {model.intercept_:.4f}\")\n",
    "\n",
    "# Performance metrics\n",
    "mse = mean_squared_error(y_test, y_pred)\n",
    "r2 = r2_score(y_test, y_pred)\n",
    "\n",
    "print(f\"Mean Squared Error: {mse:.4f}\")\n",
    "print(f\"R-squared: {r2:.4f}\")\n",
    "\n",
    "# 4. Compare Predictions with Actual Prices\n",
    "plt.figure(figsize=(8, 6))\n",
    "plt.scatter(y_test, y_pred, alpha=0.6)\n",
    "plt.plot([y_test.min(), y_test.max()],\n",
    "         [y_test.min(), y_test.max()],\n",
    "         color='red', lw=2)  # 45-degree line\n",
    "plt.xlabel('Actual Sale Prices')\n",
    "plt.ylabel('Predicted Sale Prices')\n",
    "plt.title('Actual vs Predicted Sale Prices')\n",
    "plt.show()\n",
    "\n",
    "# 5. Residual Diagnostics\n",
    "residuals = y_test - y_pred\n",
    "plt.figure(figsize=(8, 6))\n",
    "sns.histplot(residuals, kde=True, bins=30)\n",
    "plt.title('Residuals Distribution')\n",
    "plt.xlabel('Residuals')\n",
    "plt.ylabel('Frequency')\n",
    "plt.show()\n",
    "\n",
    "# Shapiro-Wilk Test for Residual Normality\n",
    "residual_stat, residual_p_value = stats.shapiro(residuals)\n",
    "print(f\"\\nShapiro-Wilk Test for Residual Normality: P-Value = {residual_p_value:.3f}\")\n",
    "if residual_p_value < 0.05:\n",
    "    print(\"Residuals are not normally distributed.\")\n",
    "else:\n",
    "    print(\"Residuals are normally distributed.\")\n",
    "\n",
    "print(\"\\nModel Diagnostics and Results Completed!\")"
   ]
  },
  {
   "cell_type": "markdown",
   "metadata": {},
   "source": [
    "Linear Regression Results with Log-Transformed Target:\n",
    "Coefficient for 'GrLivArea': 0.0005\n",
    "Intercept: 11.2468\n",
    "Mean Squared Error (Log Scale): 0.0858\n",
    "R-squared: 0.5402\n",
    "\n",
    "Shapiro-Wilk Test for Residual Normality: P-Value = 0.000\n",
    "Residuals are not normally distributed.\n",
    "\n",
    "Model Diagnostics and Results Completed!"
   ]
  },
  {
   "cell_type": "markdown",
   "metadata": {},
   "source": [
    "<h3>4.5 With Lasso"
   ]
  },
  {
   "cell_type": "code",
   "execution_count": 11,
   "metadata": {},
   "outputs": [
    {
     "name": "stdout",
     "output_type": "stream",
     "text": [
      "\n",
      "Cross-Validation R-squared Scores:\n",
      "[0.99999998 0.99999998 0.99999998 0.99999997 0.99999998]\n",
      "Mean R-squared (CV): 1.0000\n",
      "\n",
      "Lasso Regression Results:\n",
      "Best Alpha: 10\n",
      "Mean Squared Error (Log Scale): 152.7395\n",
      "R-squared: 1.0000\n"
     ]
    },
    {
     "name": "stderr",
     "output_type": "stream",
     "text": [
      "C:\\Users\\andre\\AppData\\Local\\Temp/ipykernel_18876/2165745445.py:36: RuntimeWarning: overflow encountered in expm1\n",
      "  y_pred_lasso_original = np.expm1(y_pred_lasso)  # Revert log1p transformation\n",
      "c:\\Users\\andre\\anaconda3\\lib\\site-packages\\pandas\\core\\arraylike.py:364: RuntimeWarning: overflow encountered in expm1\n",
      "  result = getattr(ufunc, method)(*inputs, **kwargs)\n"
     ]
    },
    {
     "data": {
      "image/png": "[encoded data removed]",
      "text/plain": [
       "<Figure size 576x432 with 1 Axes>"
      ]
     },
     "metadata": {
      "needs_background": "light"
     },
     "output_type": "display_data"
    },
    {
     "name": "stdout",
     "output_type": "stream",
     "text": [
      "\n",
      "Top 10 Lasso Coefficients:\n",
      "SalePrice      79403.033029\n",
      "PriceLogged        1.159429\n",
      "dtype: float64\n"
     ]
    }
   ],
   "source": [
    "from sklearn.linear_model import Lasso\n",
    "from sklearn.model_selection import GridSearchCV, cross_val_score\n",
    "from sklearn.metrics import mean_squared_error, r2_score\n",
    "import numpy as np\n",
    "import pandas as pd\n",
    "import matplotlib.pyplot as plt\n",
    "\n",
    "\n",
    "param_grid = {'alpha': [0.0001, 0.001, 0.01, 0.1, 1, 10]}  # Regularization strengths\n",
    "lasso_model = Lasso(max_iter=10000)  # Increase iterations for convergence\n",
    "grid_search = GridSearchCV(lasso_model, param_grid, cv=5, scoring='r2')\n",
    "grid_search.fit(X_train, y_train)\n",
    "\n",
    "# Best Lasso model\n",
    "best_lasso = grid_search.best_estimator_\n",
    "\n",
    "# Cross-validation for evaluation\n",
    "cv_scores = cross_val_score(best_lasso, X_train, y_train, cv=5, scoring='r2')\n",
    "print(\"\\nCross-Validation R-squared Scores:\")\n",
    "print(cv_scores)\n",
    "print(f\"Mean R-squared (CV): {np.mean(cv_scores):.4f}\")\n",
    "\n",
    "# Predict on test set\n",
    "y_pred_lasso = best_lasso.predict(X_test)\n",
    "\n",
    "# Evaluate performance\n",
    "mse_lasso = mean_squared_error(y_test, y_pred_lasso)\n",
    "r2_lasso = r2_score(y_test, y_pred_lasso)\n",
    "\n",
    "print(\"\\nLasso Regression Results:\")\n",
    "print(f\"Best Alpha: {grid_search.best_params_['alpha']}\")\n",
    "print(f\"Mean Squared Error (Log Scale): {mse_lasso:.4f}\")\n",
    "print(f\"R-squared: {r2_lasso:.4f}\")\n",
    "\n",
    "# Back-transform predictions to original scale\n",
    "y_pred_lasso_original = np.expm1(y_pred_lasso)  # Revert log1p transformation\n",
    "y_test_original = np.expm1(y_test)\n",
    "\n",
    "# Compare predictions with actual values\n",
    "plt.figure(figsize=(8, 6))\n",
    "plt.scatter(y_test_original, y_pred_lasso_original, alpha=0.6)\n",
    "plt.plot([y_test_original.min(), y_test_original.max()],\n",
    "         [y_test_original.min(), y_test_original.max()],\n",
    "         color='red', lw=2)  # Ideal 45-degree line\n",
    "plt.xlabel('Actual Sale Prices')\n",
    "plt.ylabel('Predicted Sale Prices')\n",
    "plt.title('Lasso Regression: Actual vs Predicted Prices')\n",
    "plt.show()\n",
    "\n",
    "# Print top 10 non-zero coefficients\n",
    "lasso_coefficients = pd.Series(best_lasso.coef_, index=X_df.columns)\n",
    "top_10_coefficients = lasso_coefficients[lasso_coefficients != 0].sort_values(ascending=False).head(10)\n",
    "print(\"\\nTop 10 Lasso Coefficients:\")\n",
    "print(top_10_coefficients)\n"
   ]
  },
  {
   "cell_type": "code",
   "execution_count": 15,
   "metadata": {},
   "outputs": [],
   "source": [
    "def find_best_features_with_lasso(X_df:pd.DataFrame, y_df:pd.DataFrame):\n",
    "    # Train Lasso model with cross-validation\n",
    "    lasso = LassoCV(cv=5, random_state=42).fit(X_df, y_df)\n",
    "\n",
    "    # Get feature importance\n",
    "    lasso_coefficients = pd.Series(lasso.coef_, index=X_df.columns)\n",
    "    important_features_to_use = lasso_coefficients[lasso_coefficients != 0]\n",
    "\n",
    "    # sort the features in descending order of importance\n",
    "    important_features_to_use = important_features_to_use.sort_values(ascending=False)\n",
    "    # print(\"Lasso Selected Features:\\n\", important_features_to_use)\n",
    "\n",
    "    important_features = list(important_features_to_use.index)\n",
    "    return important_features"
   ]
  },
  {
   "cell_type": "code",
   "execution_count": null,
   "metadata": {},
   "outputs": [
    {
     "data": {
      "text/plain": [
       "['SalePrice']"
      ]
     },
     "execution_count": 19,
     "metadata": {},
     "output_type": "execute_result"
    }
   ],
   "source": [
    "find_best_features_with_lasso(X_df, y_df= y)"
   ]
  },
  {
   "cell_type": "code",
   "execution_count": 13,
   "metadata": {},
   "outputs": [
    {
     "name": "stdout",
     "output_type": "stream",
     "text": [
      "246\n",
      "Dropped Columns: ['Id', 'MSSubClass', 'LotFrontage', 'LotArea', 'OverallQual', 'OverallCond', 'YearBuilt', 'YearRemodAdd', 'MasVnrArea', 'BsmtFinSF1', 'BsmtFinSF2', 'BsmtUnfSF', 'TotalBsmtSF', '1stFlrSF', '2ndFlrSF', 'LowQualFinSF', 'GrLivArea', 'BsmtFullBath', 'BsmtHalfBath', 'FullBath', 'HalfBath', 'BedroomAbvGr', 'KitchenAbvGr', 'TotRmsAbvGrd', 'Fireplaces', 'GarageYrBlt', 'GarageCars', 'GarageArea', 'WoodDeckSF', 'OpenPorchSF', 'EnclosedPorch', '3SsnPorch', 'ScreenPorch', 'PoolArea', 'MiscVal', 'MoSold', 'YrSold', 'MSZoning_FV', 'MSZoning_RH', 'MSZoning_RL', 'MSZoning_RM', 'Street_Pave', 'Alley_Pave', 'LotShape_IR2', 'LotShape_IR3', 'LotShape_Reg', 'LandContour_HLS', 'LandContour_Low', 'LandContour_Lvl', 'Utilities_NoSeWa', 'LotConfig_CulDSac', 'LotConfig_FR2', 'LotConfig_FR3', 'LotConfig_Inside', 'LandSlope_Mod', 'LandSlope_Sev', 'Neighborhood_Blueste', 'Neighborhood_BrDale', 'Neighborhood_BrkSide', 'Neighborhood_ClearCr', 'Neighborhood_CollgCr', 'Neighborhood_Crawfor', 'Neighborhood_Edwards', 'Neighborhood_Gilbert', 'Neighborhood_IDOTRR', 'Neighborhood_MeadowV', 'Neighborhood_Mitchel', 'Neighborhood_NAmes', 'Neighborhood_NPkVill', 'Neighborhood_NWAmes', 'Neighborhood_NoRidge', 'Neighborhood_NridgHt', 'Neighborhood_OldTown', 'Neighborhood_SWISU', 'Neighborhood_Sawyer', 'Neighborhood_SawyerW', 'Neighborhood_Somerst', 'Neighborhood_StoneBr', 'Neighborhood_Timber', 'Neighborhood_Veenker', 'Condition1_Feedr', 'Condition1_Norm', 'Condition1_PosA', 'Condition1_PosN', 'Condition1_RRAe', 'Condition1_RRAn', 'Condition1_RRNe', 'Condition1_RRNn', 'Condition2_Feedr', 'Condition2_Norm', 'Condition2_PosA', 'Condition2_PosN', 'Condition2_RRAe', 'Condition2_RRAn', 'Condition2_RRNn', 'BldgType_2fmCon', 'BldgType_Duplex', 'BldgType_Twnhs', 'BldgType_TwnhsE', 'HouseStyle_1.5Unf', 'HouseStyle_1Story', 'HouseStyle_2.5Fin', 'HouseStyle_2.5Unf', 'HouseStyle_2Story', 'HouseStyle_SFoyer', 'HouseStyle_SLvl', 'RoofStyle_Gable', 'RoofStyle_Gambrel', 'RoofStyle_Hip', 'RoofStyle_Mansard', 'RoofStyle_Shed', 'RoofMatl_CompShg', 'RoofMatl_Membran', 'RoofMatl_Metal', 'RoofMatl_Roll', 'RoofMatl_Tar&Grv', 'RoofMatl_WdShake', 'RoofMatl_WdShngl', 'Exterior1st_AsphShn', 'Exterior1st_BrkComm', 'Exterior1st_BrkFace', 'Exterior1st_CBlock', 'Exterior1st_CemntBd', 'Exterior1st_HdBoard', 'Exterior1st_ImStucc', 'Exterior1st_MetalSd', 'Exterior1st_Plywood', 'Exterior1st_Stone', 'Exterior1st_Stucco', 'Exterior1st_VinylSd', 'Exterior1st_Wd Sdng', 'Exterior1st_WdShing', 'Exterior2nd_AsphShn', 'Exterior2nd_Brk Cmn', 'Exterior2nd_BrkFace', 'Exterior2nd_CBlock', 'Exterior2nd_CmentBd', 'Exterior2nd_HdBoard', 'Exterior2nd_ImStucc', 'Exterior2nd_MetalSd', 'Exterior2nd_Other', 'Exterior2nd_Plywood', 'Exterior2nd_Stone', 'Exterior2nd_Stucco', 'Exterior2nd_VinylSd', 'Exterior2nd_Wd Sdng', 'Exterior2nd_Wd Shng', 'MasVnrType_BrkFace', 'MasVnrType_None', 'MasVnrType_Stone', 'ExterQual_Fa', 'ExterQual_Gd', 'ExterQual_TA', 'ExterCond_Fa', 'ExterCond_Gd', 'ExterCond_Po', 'ExterCond_TA', 'Foundation_CBlock', 'Foundation_PConc', 'Foundation_Slab', 'Foundation_Stone', 'Foundation_Wood', 'BsmtQual_Fa', 'BsmtQual_Gd', 'BsmtQual_TA', 'BsmtCond_Gd', 'BsmtCond_Po', 'BsmtCond_TA', 'BsmtExposure_Gd', 'BsmtExposure_Mn', 'BsmtExposure_No', 'BsmtFinType1_BLQ', 'BsmtFinType1_GLQ', 'BsmtFinType1_LwQ', 'BsmtFinType1_Rec', 'BsmtFinType1_Unf', 'BsmtFinType2_BLQ', 'BsmtFinType2_GLQ', 'BsmtFinType2_LwQ', 'BsmtFinType2_Rec', 'BsmtFinType2_Unf', 'Heating_GasA', 'Heating_GasW', 'Heating_Grav', 'Heating_OthW', 'Heating_Wall', 'HeatingQC_Fa', 'HeatingQC_Gd', 'HeatingQC_Po', 'HeatingQC_TA', 'CentralAir_Y', 'Electrical_FuseF', 'Electrical_FuseP', 'Electrical_Mix', 'Electrical_SBrkr', 'KitchenQual_Fa', 'KitchenQual_Gd', 'KitchenQual_TA', 'Functional_Maj2', 'Functional_Min1', 'Functional_Min2', 'Functional_Mod', 'Functional_Sev', 'Functional_Typ', 'FireplaceQu_Fa', 'FireplaceQu_Gd', 'FireplaceQu_Po', 'FireplaceQu_TA', 'GarageType_Attchd', 'GarageType_Basment', 'GarageType_BuiltIn', 'GarageType_CarPort', 'GarageType_Detchd', 'GarageFinish_RFn', 'GarageFinish_Unf', 'GarageQual_Fa', 'GarageQual_Gd', 'GarageQual_Po', 'GarageQual_TA', 'GarageCond_Fa', 'GarageCond_Gd', 'GarageCond_Po', 'GarageCond_TA', 'PavedDrive_P', 'PavedDrive_Y', 'PoolQC_Fa', 'PoolQC_Gd', 'Fence_GdWo', 'Fence_MnPrv', 'Fence_MnWw', 'MiscFeature_Othr', 'MiscFeature_Shed', 'MiscFeature_TenC', 'SaleType_CWD', 'SaleType_Con', 'SaleType_ConLD', 'SaleType_ConLI', 'SaleType_ConLw', 'SaleType_New', 'SaleType_Oth', 'SaleType_WD', 'SaleCondition_AdjLand', 'SaleCondition_Alloca', 'SaleCondition_Family', 'SaleCondition_Normal', 'SaleCondition_Partial']\n"
     ]
    }
   ],
   "source": [
    "lasso_coefficients = pd.Series(best_lasso.coef_, index=X_df.columns)\n",
    "\n",
    "# Identify dropped columns (coefficients set to zero)\n",
    "dropped_columns = lasso_coefficients[lasso_coefficients == 0].index\n",
    "\n",
    "print(len(dropped_columns))\n",
    "\n",
    "print(f\"Dropped Columns: {list(dropped_columns)}\")"
   ]
  },
  {
   "cell_type": "markdown",
   "metadata": {},
   "source": [
    "Lasso Coefficients:\n",
    "GrLivArea      0.000269\n",
    "OverallQual    0.110932\n",
    "YearBuilt      0.003135\n",
    "TotalBsmtSF    0.000117\n",
    "dtype: float64"
   ]
  },
  {
   "cell_type": "markdown",
   "metadata": {},
   "source": [
    "<h3>Returning the RSME of the un-logged"
   ]
  },
  {
   "cell_type": "code",
   "execution_count": 9,
   "metadata": {},
   "outputs": [
    {
     "name": "stdout",
     "output_type": "stream",
     "text": [
      "Root Mean Squared Error (Original Scale): 28017.2202\n"
     ]
    }
   ],
   "source": [
    "from sklearn.metrics import mean_squared_error\n",
    "import numpy as np\n",
    "\n",
    "# Back-transform predictions and actual values\n",
    "y_pred_lasso_original = np.expm1(y_pred_lasso)\n",
    "y_test_original = np.expm1(y_test)\n",
    "\n",
    "# Calculate RMSE on the original scale\n",
    "rmse_original = np.sqrt(mean_squared_error(y_test_original, y_pred_lasso_original))\n",
    "\n",
    "print(f\"Root Mean Squared Error (Original Scale): {rmse_original:.4f}\")\n"
   ]
  },
  {
   "cell_type": "markdown",
   "metadata": {},
   "source": [
    "Root Mean Squared Error (Original Scale): 32620.4262"
   ]
  },
  {
   "cell_type": "markdown",
   "metadata": {},
   "source": [
    "Is this good?"
   ]
  },
  {
   "cell_type": "code",
   "execution_count": 10,
   "metadata": {},
   "outputs": [
    {
     "name": "stdout",
     "output_type": "stream",
     "text": [
      "Relative Error: 15.49%\n"
     ]
    }
   ],
   "source": [
    "avg_sale_price = data['SalePrice'].mean()\n",
    "relative_error = (rmse_original / avg_sale_price) * 100\n",
    "print(f\"Relative Error: {relative_error:.2f}%\")\n"
   ]
  },
  {
   "cell_type": "markdown",
   "metadata": {},
   "source": [
    "Root Mean Squared Error (Original Scale): 32620.4262"
   ]
  },
  {
   "cell_type": "markdown",
   "metadata": {},
   "source": [
    "<h3>1. Bootstrapping Coefficients"
   ]
  },
  {
   "cell_type": "code",
   "execution_count": 11,
   "metadata": {},
   "outputs": [
    {
     "name": "stderr",
     "output_type": "stream",
     "text": [
      "c:\\Users\\andre\\anaconda3\\lib\\site-packages\\sklearn\\linear_model\\_coordinate_descent.py:648: ConvergenceWarning: Objective did not converge. You might want to increase the number of iterations, check the scale of the features or consider increasing regularisation. Duality gap: 7.804e+00, tolerance: 1.842e-02\n",
      "  model = cd_fast.enet_coordinate_descent(\n",
      "c:\\Users\\andre\\anaconda3\\lib\\site-packages\\sklearn\\linear_model\\_coordinate_descent.py:648: ConvergenceWarning: Objective did not converge. You might want to increase the number of iterations, check the scale of the features or consider increasing regularisation. Duality gap: 4.700e+00, tolerance: 1.721e-02\n",
      "  model = cd_fast.enet_coordinate_descent(\n",
      "c:\\Users\\andre\\anaconda3\\lib\\site-packages\\sklearn\\linear_model\\_coordinate_descent.py:648: ConvergenceWarning: Objective did not converge. You might want to increase the number of iterations, check the scale of the features or consider increasing regularisation. Duality gap: 9.113e+00, tolerance: 1.882e-02\n",
      "  model = cd_fast.enet_coordinate_descent(\n",
      "c:\\Users\\andre\\anaconda3\\lib\\site-packages\\sklearn\\linear_model\\_coordinate_descent.py:648: ConvergenceWarning: Objective did not converge. You might want to increase the number of iterations, check the scale of the features or consider increasing regularisation. Duality gap: 9.263e+00, tolerance: 1.769e-02\n",
      "  model = cd_fast.enet_coordinate_descent(\n",
      "c:\\Users\\andre\\anaconda3\\lib\\site-packages\\sklearn\\linear_model\\_coordinate_descent.py:648: ConvergenceWarning: Objective did not converge. You might want to increase the number of iterations, check the scale of the features or consider increasing regularisation. Duality gap: 6.984e+00, tolerance: 1.869e-02\n",
      "  model = cd_fast.enet_coordinate_descent(\n",
      "c:\\Users\\andre\\anaconda3\\lib\\site-packages\\sklearn\\linear_model\\_coordinate_descent.py:648: ConvergenceWarning: Objective did not converge. You might want to increase the number of iterations, check the scale of the features or consider increasing regularisation. Duality gap: 7.720e+00, tolerance: 1.774e-02\n",
      "  model = cd_fast.enet_coordinate_descent(\n",
      "c:\\Users\\andre\\anaconda3\\lib\\site-packages\\sklearn\\linear_model\\_coordinate_descent.py:648: ConvergenceWarning: Objective did not converge. You might want to increase the number of iterations, check the scale of the features or consider increasing regularisation. Duality gap: 9.258e+00, tolerance: 1.771e-02\n",
      "  model = cd_fast.enet_coordinate_descent(\n",
      "c:\\Users\\andre\\anaconda3\\lib\\site-packages\\sklearn\\linear_model\\_coordinate_descent.py:648: ConvergenceWarning: Objective did not converge. You might want to increase the number of iterations, check the scale of the features or consider increasing regularisation. Duality gap: 8.707e+00, tolerance: 1.742e-02\n",
      "  model = cd_fast.enet_coordinate_descent(\n",
      "c:\\Users\\andre\\anaconda3\\lib\\site-packages\\sklearn\\linear_model\\_coordinate_descent.py:648: ConvergenceWarning: Objective did not converge. You might want to increase the number of iterations, check the scale of the features or consider increasing regularisation. Duality gap: 8.434e+00, tolerance: 1.644e-02\n",
      "  model = cd_fast.enet_coordinate_descent(\n"
     ]
    },
    {
     "name": "stdout",
     "output_type": "stream",
     "text": [
      "Bootstrapped Confidence Intervals for Lasso Coefficients:\n",
      "1stFlrSF: [0.000168, 0.000276]\n",
      "2ndFlrSF: [0.000158, 0.000210]\n",
      "3SsnPorch: [0.000083, 0.000353]\n",
      "Alley: [-0.009126, 0.007242]\n",
      "BedroomAbvGr: [0.000000, 0.020629]\n",
      "BldgType: [-0.017468, -0.003720]\n",
      "BsmtCond: [0.000072, 0.022004]\n",
      "BsmtExposure: [-0.015309, -0.006136]\n",
      "BsmtFinSF1: [0.000047, 0.000144]\n",
      "BsmtFinSF2: [0.000075, 0.000176]\n",
      "BsmtFinType1: [-0.014830, -0.002331]\n",
      "BsmtFinType2: [0.000195, 0.011099]\n",
      "BsmtFullBath: [0.020180, 0.075346]\n",
      "BsmtHalfBath: [0.000000, 0.001815]\n",
      "BsmtQual: [-0.034105, -0.016735]\n",
      "BsmtUnfSF: [0.000069, 0.000107]\n",
      "CentralAir: [0.005758, 0.089077]\n",
      "Condition1: [-0.004033, 0.004838]\n",
      "Condition2: [-0.349156, -0.005943]\n",
      "Electrical: [-0.008169, 0.005244]\n",
      "EnclosedPorch: [-0.000007, 0.000207]\n",
      "ExterCond: [-0.003549, 0.017912]\n",
      "ExterQual: [-0.007517, 0.012989]\n",
      "Exterior1st: [-0.011510, -0.002743]\n",
      "Exterior2nd: [0.001061, 0.009198]\n",
      "Fence: [0.000314, 0.010690]\n",
      "FireplaceQu: [-0.014345, -0.001169]\n",
      "Fireplaces: [0.001316, 0.046690]\n",
      "Foundation: [0.001483, 0.019646]\n",
      "FullBath: [0.000000, 0.024171]\n",
      "Functional: [0.011266, 0.023376]\n",
      "GarageArea: [-0.000078, 0.000170]\n",
      "GarageCars: [0.009864, 0.095259]\n",
      "GarageCond: [0.000000, 0.006589]\n",
      "GarageFinish: [-0.012096, -0.000352]\n",
      "GarageQual: [-0.003516, 0.007483]\n",
      "GarageType: [-0.010854, -0.002912]\n",
      "GarageYrBlt: [-0.000874, -0.000408]\n",
      "GrLivArea: [-0.000007, 0.000031]\n",
      "HalfBath: [0.000000, 0.026788]\n",
      "Heating: [-0.047645, 0.000000]\n",
      "HeatingQC: [-0.012894, -0.003488]\n",
      "HouseStyle: [-0.007565, -0.001082]\n",
      "Id: [-0.000025, 0.000011]\n",
      "KitchenAbvGr: [-0.071623, 0.000000]\n",
      "KitchenQual: [-0.033395, -0.005098]\n",
      "LandContour: [-0.010676, 0.020307]\n",
      "LandSlope: [0.000000, 0.075273]\n",
      "LotArea: [0.000001, 0.000002]\n",
      "LotConfig: [-0.005929, 0.001342]\n",
      "LotFrontage: [-0.001142, 0.000033]\n",
      "LotShape: [-0.007941, -0.000470]\n",
      "LowQualFinSF: [0.000094, 0.000340]\n",
      "MSSubClass: [-0.000672, -0.000057]\n",
      "MSZoning: [-0.031488, -0.015958]\n",
      "MasVnrArea: [-0.000015, 0.000035]\n",
      "MasVnrType: [-0.004990, 0.021585]\n",
      "MiscFeature: [0.000000, 0.019122]\n",
      "MiscVal: [-0.000005, 0.000063]\n",
      "MoSold: [-0.004029, 0.002224]\n",
      "Neighborhood: [0.000068, 0.001577]\n",
      "OpenPorchSF: [-0.000205, -0.000002]\n",
      "OverallCond: [0.029607, 0.043916]\n",
      "OverallQual: [0.058951, 0.076220]\n",
      "PavedDrive: [-0.007015, 0.019513]\n",
      "PoolArea: [-0.002539, 0.000204]\n",
      "PoolQC: [-0.449022, 0.000000]\n",
      "RoofMatl: [0.000000, 0.023652]\n",
      "RoofStyle: [-0.000658, 0.014767]\n",
      "SaleCondition: [0.007558, 0.023448]\n",
      "SaleType: [-0.003499, 0.005049]\n",
      "ScreenPorch: [0.000176, 0.000454]\n",
      "Street: [0.000000, 0.000000]\n",
      "TotRmsAbvGrd: [0.002503, 0.014840]\n",
      "TotalBsmtSF: [-0.000127, 0.000007]\n",
      "Utilities: [0.000000, -0.000000]\n",
      "WoodDeckSF: [0.000045, 0.000179]\n",
      "YearBuilt: [0.001406, 0.002413]\n",
      "YearRemodAdd: [0.000590, 0.002065]\n",
      "YrSold: [-0.007514, -0.001742]\n"
     ]
    },
    {
     "name": "stderr",
     "output_type": "stream",
     "text": [
      "c:\\Users\\andre\\anaconda3\\lib\\site-packages\\sklearn\\linear_model\\_coordinate_descent.py:648: ConvergenceWarning: Objective did not converge. You might want to increase the number of iterations, check the scale of the features or consider increasing regularisation. Duality gap: 7.664e+00, tolerance: 1.980e-02\n",
      "  model = cd_fast.enet_coordinate_descent(\n"
     ]
    }
   ],
   "source": [
    "from sklearn.utils import resample\n",
    "from sklearn.linear_model import Lasso\n",
    "import pandas as pd\n",
    "\n",
    "# Set up variables\n",
    "n_bootstraps = 10\n",
    "alpha = 0.05  # Confidence level = 95% (2.5% on each tail)\n",
    "coefficients_bootstrap = []\n",
    "\n",
    "# Bootstrapping\n",
    "for i in range(n_bootstraps):\n",
    "    # Resample the training data with replacement\n",
    "    X_boot, y_boot = resample(X_train, y_train, random_state=i)\n",
    "    \n",
    "    # Ensure X_boot retains the correct column structure\n",
    "    X_boot = pd.DataFrame(X_boot, columns=X_train.columns)\n",
    "    \n",
    "    # Train Lasso model on bootstrap sample\n",
    "    lasso_model_boot = Lasso(alpha=grid_search.best_params_['alpha'], max_iter=10000)\n",
    "    lasso_model_boot.fit(X_boot, y_boot)\n",
    "    \n",
    "    # Store coefficients\n",
    "    coefficients_bootstrap.append(lasso_model_boot.coef_)\n",
    "\n",
    "# Convert to DataFrame for easier analysis\n",
    "coefficients_bootstrap = pd.DataFrame(coefficients_bootstrap, columns=predictors)\n",
    "\n",
    "# Calculate confidence intervals\n",
    "lower_bounds = coefficients_bootstrap.quantile(alpha / 2)\n",
    "upper_bounds = coefficients_bootstrap.quantile(1 - alpha / 2)\n",
    "\n",
    "# Print confidence intervals for each feature\n",
    "print(\"Bootstrapped Confidence Intervals for Lasso Coefficients:\")\n",
    "for feature in predictors:\n",
    "    print(f\"{feature}: [{lower_bounds[feature]:.6f}, {upper_bounds[feature]:.6f}]\")\n"
   ]
  },
  {
   "cell_type": "markdown",
   "metadata": {},
   "source": [
    "Bootstrapped Confidence Intervals for Lasso Coefficients:\n",
    "GrLivArea: [0.000216, 0.000331]\n",
    "OverallQual: [0.088705, 0.131872]\n",
    "YearBuilt: [0.002720, 0.003594]\n",
    "TotalBsmtSF: [0.000016, 0.000212]"
   ]
  },
  {
   "cell_type": "code",
   "execution_count": 12,
   "metadata": {},
   "outputs": [
    {
     "name": "stderr",
     "output_type": "stream",
     "text": [
      "c:\\Users\\andre\\anaconda3\\lib\\site-packages\\sklearn\\linear_model\\_coordinate_descent.py:648: ConvergenceWarning: Objective did not converge. You might want to increase the number of iterations, check the scale of the features or consider increasing regularisation. Duality gap: 7.804e+00, tolerance: 1.842e-02\n",
      "  model = cd_fast.enet_coordinate_descent(\n",
      "c:\\Users\\andre\\anaconda3\\lib\\site-packages\\sklearn\\linear_model\\_coordinate_descent.py:648: ConvergenceWarning: Objective did not converge. You might want to increase the number of iterations, check the scale of the features or consider increasing regularisation. Duality gap: 4.700e+00, tolerance: 1.721e-02\n",
      "  model = cd_fast.enet_coordinate_descent(\n",
      "c:\\Users\\andre\\anaconda3\\lib\\site-packages\\sklearn\\linear_model\\_coordinate_descent.py:648: ConvergenceWarning: Objective did not converge. You might want to increase the number of iterations, check the scale of the features or consider increasing regularisation. Duality gap: 9.113e+00, tolerance: 1.882e-02\n",
      "  model = cd_fast.enet_coordinate_descent(\n",
      "c:\\Users\\andre\\anaconda3\\lib\\site-packages\\sklearn\\linear_model\\_coordinate_descent.py:648: ConvergenceWarning: Objective did not converge. You might want to increase the number of iterations, check the scale of the features or consider increasing regularisation. Duality gap: 9.263e+00, tolerance: 1.769e-02\n",
      "  model = cd_fast.enet_coordinate_descent(\n",
      "c:\\Users\\andre\\anaconda3\\lib\\site-packages\\sklearn\\linear_model\\_coordinate_descent.py:648: ConvergenceWarning: Objective did not converge. You might want to increase the number of iterations, check the scale of the features or consider increasing regularisation. Duality gap: 6.984e+00, tolerance: 1.869e-02\n",
      "  model = cd_fast.enet_coordinate_descent(\n",
      "c:\\Users\\andre\\anaconda3\\lib\\site-packages\\sklearn\\linear_model\\_coordinate_descent.py:648: ConvergenceWarning: Objective did not converge. You might want to increase the number of iterations, check the scale of the features or consider increasing regularisation. Duality gap: 7.720e+00, tolerance: 1.774e-02\n",
      "  model = cd_fast.enet_coordinate_descent(\n",
      "c:\\Users\\andre\\anaconda3\\lib\\site-packages\\sklearn\\linear_model\\_coordinate_descent.py:648: ConvergenceWarning: Objective did not converge. You might want to increase the number of iterations, check the scale of the features or consider increasing regularisation. Duality gap: 9.258e+00, tolerance: 1.771e-02\n",
      "  model = cd_fast.enet_coordinate_descent(\n",
      "c:\\Users\\andre\\anaconda3\\lib\\site-packages\\sklearn\\linear_model\\_coordinate_descent.py:648: ConvergenceWarning: Objective did not converge. You might want to increase the number of iterations, check the scale of the features or consider increasing regularisation. Duality gap: 8.707e+00, tolerance: 1.742e-02\n",
      "  model = cd_fast.enet_coordinate_descent(\n",
      "c:\\Users\\andre\\anaconda3\\lib\\site-packages\\sklearn\\linear_model\\_coordinate_descent.py:648: ConvergenceWarning: Objective did not converge. You might want to increase the number of iterations, check the scale of the features or consider increasing regularisation. Duality gap: 8.434e+00, tolerance: 1.644e-02\n",
      "  model = cd_fast.enet_coordinate_descent(\n"
     ]
    },
    {
     "name": "stdout",
     "output_type": "stream",
     "text": [
      "95% CI for R-squared: [0.8250, 0.8893]\n",
      "95% CI for MSE: [0.0207, 0.0327]\n"
     ]
    },
    {
     "name": "stderr",
     "output_type": "stream",
     "text": [
      "c:\\Users\\andre\\anaconda3\\lib\\site-packages\\sklearn\\linear_model\\_coordinate_descent.py:648: ConvergenceWarning: Objective did not converge. You might want to increase the number of iterations, check the scale of the features or consider increasing regularisation. Duality gap: 7.664e+00, tolerance: 1.980e-02\n",
      "  model = cd_fast.enet_coordinate_descent(\n"
     ]
    }
   ],
   "source": [
    "r2_scores = []\n",
    "mse_scores = []\n",
    "\n",
    "# Bootstrapping metrics\n",
    "for i in range(n_bootstraps):\n",
    "    X_boot, y_boot = resample(X_train, y_train, random_state=i)\n",
    "    lasso_model_boot = Lasso(alpha=grid_search.best_params_['alpha'], max_iter=10000)\n",
    "    lasso_model_boot.fit(X_boot, y_boot)\n",
    "    y_pred_boot = lasso_model_boot.predict(X_test)\n",
    "    \n",
    "    r2_scores.append(r2_score(y_test, y_pred_boot))\n",
    "    mse_scores.append(mean_squared_error(y_test, y_pred_boot))\n",
    "\n",
    "# Calculate confidence intervals\n",
    "r2_lower, r2_upper = np.percentile(r2_scores, [2.5, 97.5])\n",
    "mse_lower, mse_upper = np.percentile(mse_scores, [2.5, 97.5])\n",
    "\n",
    "print(f\"95% CI for R-squared: [{r2_lower:.4f}, {r2_upper:.4f}]\")\n",
    "print(f\"95% CI for MSE: [{mse_lower:.4f}, {mse_upper:.4f}]\")\n"
   ]
  },
  {
   "cell_type": "markdown",
   "metadata": {},
   "source": [
    "95% CI for R-squared: [0.8052, 0.8448]\n",
    "95% CI for MSE: [0.0290, 0.0364]"
   ]
  },
  {
   "cell_type": "markdown",
   "metadata": {},
   "source": [
    "<h3>GPT-Optimized"
   ]
  },
  {
   "cell_type": "code",
   "execution_count": 13,
   "metadata": {},
   "outputs": [
    {
     "name": "stdout",
     "output_type": "stream",
     "text": [
      "Best Alpha: 0.0016768329368110084\n",
      "RMSE (Log Scale): 0.1530\n",
      "RMSE (Original Scale): 28067.15\n"
     ]
    },
    {
     "name": "stderr",
     "output_type": "stream",
     "text": [
      "c:\\Users\\andre\\anaconda3\\lib\\site-packages\\sklearn\\linear_model\\_coordinate_descent.py:648: ConvergenceWarning: Objective did not converge. You might want to increase the number of iterations, check the scale of the features or consider increasing regularisation. Duality gap: 9.547e+00, tolerance: 1.781e-02\n",
      "  model = cd_fast.enet_coordinate_descent(\n"
     ]
    },
    {
     "data": {
      "image/png": "[encoded data removed]",
      "text/plain": [
       "<Figure size 576x432 with 1 Axes>"
      ]
     },
     "metadata": {
      "needs_background": "light"
     },
     "output_type": "display_data"
    },
    {
     "name": "stderr",
     "output_type": "stream",
     "text": [
      "c:\\Users\\andre\\anaconda3\\lib\\site-packages\\sklearn\\linear_model\\_coordinate_descent.py:648: ConvergenceWarning: Objective did not converge. You might want to increase the number of iterations, check the scale of the features or consider increasing regularisation. Duality gap: 1.109e+01, tolerance: 2.119e-02\n",
      "  model = cd_fast.enet_coordinate_descent(\n",
      "c:\\Users\\andre\\anaconda3\\lib\\site-packages\\sklearn\\linear_model\\_coordinate_descent.py:648: ConvergenceWarning: Objective did not converge. You might want to increase the number of iterations, check the scale of the features or consider increasing regularisation. Duality gap: 1.121e+01, tolerance: 2.100e-02\n",
      "  model = cd_fast.enet_coordinate_descent(\n",
      "c:\\Users\\andre\\anaconda3\\lib\\site-packages\\sklearn\\linear_model\\_coordinate_descent.py:648: ConvergenceWarning: Objective did not converge. You might want to increase the number of iterations, check the scale of the features or consider increasing regularisation. Duality gap: 1.065e+01, tolerance: 2.065e-02\n",
      "  model = cd_fast.enet_coordinate_descent(\n",
      "c:\\Users\\andre\\anaconda3\\lib\\site-packages\\sklearn\\linear_model\\_coordinate_descent.py:648: ConvergenceWarning: Objective did not converge. You might want to increase the number of iterations, check the scale of the features or consider increasing regularisation. Duality gap: 6.352e+00, tolerance: 2.063e-02\n",
      "  model = cd_fast.enet_coordinate_descent(\n",
      "c:\\Users\\andre\\anaconda3\\lib\\site-packages\\sklearn\\linear_model\\_coordinate_descent.py:648: ConvergenceWarning: Objective did not converge. You might want to increase the number of iterations, check the scale of the features or consider increasing regularisation. Duality gap: 6.602e+00, tolerance: 2.027e-02\n",
      "  model = cd_fast.enet_coordinate_descent(\n",
      "c:\\Users\\andre\\anaconda3\\lib\\site-packages\\sklearn\\linear_model\\_coordinate_descent.py:648: ConvergenceWarning: Objective did not converge. You might want to increase the number of iterations, check the scale of the features or consider increasing regularisation. Duality gap: 1.120e+01, tolerance: 2.139e-02\n",
      "  model = cd_fast.enet_coordinate_descent(\n",
      "c:\\Users\\andre\\anaconda3\\lib\\site-packages\\sklearn\\linear_model\\_coordinate_descent.py:648: ConvergenceWarning: Objective did not converge. You might want to increase the number of iterations, check the scale of the features or consider increasing regularisation. Duality gap: 1.099e+01, tolerance: 2.106e-02\n",
      "  model = cd_fast.enet_coordinate_descent(\n",
      "c:\\Users\\andre\\anaconda3\\lib\\site-packages\\sklearn\\linear_model\\_coordinate_descent.py:648: ConvergenceWarning: Objective did not converge. You might want to increase the number of iterations, check the scale of the features or consider increasing regularisation. Duality gap: 1.137e+01, tolerance: 2.123e-02\n",
      "  model = cd_fast.enet_coordinate_descent(\n",
      "c:\\Users\\andre\\anaconda3\\lib\\site-packages\\sklearn\\linear_model\\_coordinate_descent.py:648: ConvergenceWarning: Objective did not converge. You might want to increase the number of iterations, check the scale of the features or consider increasing regularisation. Duality gap: 5.535e+00, tolerance: 2.118e-02\n",
      "  model = cd_fast.enet_coordinate_descent(\n"
     ]
    },
    {
     "name": "stdout",
     "output_type": "stream",
     "text": [
      "Mean CV RMSE (Log Scale): 0.1476\n"
     ]
    },
    {
     "name": "stderr",
     "output_type": "stream",
     "text": [
      "c:\\Users\\andre\\anaconda3\\lib\\site-packages\\sklearn\\linear_model\\_coordinate_descent.py:648: ConvergenceWarning: Objective did not converge. You might want to increase the number of iterations, check the scale of the features or consider increasing regularisation. Duality gap: 1.105e+01, tolerance: 2.091e-02\n",
      "  model = cd_fast.enet_coordinate_descent(\n"
     ]
    }
   ],
   "source": [
    "from sklearn.linear_model import Lasso\n",
    "from sklearn.model_selection import GridSearchCV, cross_val_score\n",
    "from sklearn.metrics import mean_squared_error\n",
    "import numpy as np\n",
    "\n",
    "X_train, X_test, y_train, y_test = train_test_split(X, y, test_size=0.2, random_state=42)\n",
    "\n",
    "# Step 2: Hyperparameter Tuning with Cross-Validation\n",
    "param_grid = {'alpha': np.logspace(-4, 1, 50)}  # Finer range of alpha values\n",
    "lasso_model = Lasso(max_iter=10000)\n",
    "grid_search = GridSearchCV(lasso_model, param_grid, cv=10, scoring='neg_mean_squared_error', n_jobs=-1)\n",
    "grid_search.fit(X_train, y_train)\n",
    "\n",
    "# Best model from grid search\n",
    "best_lasso = grid_search.best_estimator_\n",
    "\n",
    "# Step 3: Model Performance\n",
    "# Predict on test set\n",
    "y_pred_lasso = best_lasso.predict(X_test)\n",
    "\n",
    "# Evaluate RMSE on log scale\n",
    "mse_lasso_log = mean_squared_error(y_test, y_pred_lasso)\n",
    "rmse_lasso_log = np.sqrt(mse_lasso_log)\n",
    "print(f\"Best Alpha: {grid_search.best_params_['alpha']}\")\n",
    "print(f\"RMSE (Log Scale): {rmse_lasso_log:.4f}\")\n",
    "\n",
    "# Back-transform predictions\n",
    "y_pred_lasso_original = np.expm1(y_pred_lasso)\n",
    "y_test_original = np.expm1(y_test)\n",
    "\n",
    "# Calculate RMSE on original scale\n",
    "rmse_lasso_original = np.sqrt(mean_squared_error(y_test_original, y_pred_lasso_original))\n",
    "print(f\"RMSE (Original Scale): {rmse_lasso_original:.2f}\")\n",
    "\n",
    "# Plot Actual vs Predicted Prices\n",
    "plt.figure(figsize=(8, 6))\n",
    "plt.scatter(y_test_original, y_pred_lasso_original, alpha=0.6, label='Predictions')\n",
    "plt.plot([y_test_original.min(), y_test_original.max()], \n",
    "         [y_test_original.min(), y_test_original.max()], color='red', lw=2, label='Perfect Fit')\n",
    "plt.xlabel('Actual Sale Prices')\n",
    "plt.ylabel('Predicted Sale Prices')\n",
    "plt.title('Lasso Regression: Actual vs Predicted Prices')\n",
    "plt.legend()\n",
    "plt.show()\n",
    "\n",
    "# Step 4: Cross-Validation Performance\n",
    "cv_scores = cross_val_score(best_lasso, X, y, cv=10, scoring='neg_mean_squared_error')\n",
    "cv_rmse = np.sqrt(-cv_scores)\n",
    "print(f\"Mean CV RMSE (Log Scale): {cv_rmse.mean():.4f}\")\n"
   ]
  },
  {
   "cell_type": "markdown",
   "metadata": {},
   "source": [
    "Best Alpha: 0.0021209508879201904\n",
    "RMSE (Log Scale): 0.1698\n",
    "RMSE (Original Scale): 31813.14\n",
    "\n",
    "Mean CV RMSE (Log Scale): 0.1693"
   ]
  }
 ],
 "metadata": {
  "kernelspec": {
   "display_name": "base",
   "language": "python",
   "name": "python3"
  },
  "language_info": {
   "codemirror_mode": {
    "name": "ipython",
    "version": 3
   },
   "file_extension": ".py",
   "mimetype": "text/x-python",
   "name": "python",
   "nbconvert_exporter": "python",
   "pygments_lexer": "ipython3",
   "version": "3.8.5"
  }
 },
 "nbformat": 4,
 "nbformat_minor": 2
}
